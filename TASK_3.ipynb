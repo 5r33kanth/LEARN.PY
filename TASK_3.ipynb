{
  "nbformat": 4,
  "nbformat_minor": 0,
  "metadata": {
    "colab": {
      "name": "TASK 3.ipynb",
      "provenance": [],
      "include_colab_link": true
    },
    "kernelspec": {
      "name": "python3",
      "display_name": "Python 3"
    },
    "language_info": {
      "name": "python"
    }
  },
  "cells": [
    {
      "cell_type": "markdown",
      "metadata": {
        "id": "view-in-github",
        "colab_type": "text"
      },
      "source": [
        "<a href=\"https://colab.research.google.com/github/5r33kanth/LEARN.PY/blob/main/TASK_3.ipynb\" target=\"_parent\"><img src=\"https://colab.research.google.com/assets/colab-badge.svg\" alt=\"Open In Colab\"/></a>"
      ]
    },
    {
      "cell_type": "markdown",
      "metadata": {
        "id": "z20IIB0eUQMN"
      },
      "source": [
        "1 - Write a program which takes a number as input from the user and check whether the number is odd or even.If odd print the number is odd if not print it is even."
      ]
    },
    {
      "cell_type": "code",
      "metadata": {
        "id": "dVgGJ-wTVRit",
        "colab": {
          "base_uri": "https://localhost:8080/"
        },
        "outputId": "26dc9bff-5cb1-4173-e447-9b141fc8023c"
      },
      "source": [
        "#please enter your answer below this line\n",
        "x = int(input('Enter Number:'))\n",
        "print('It is an even number') if (x % 2) == 0 else print('It is an odd number')\n"
      ],
      "execution_count": null,
      "outputs": [
        {
          "output_type": "stream",
          "text": [
            "Enter Number:255555\n",
            "It is an odd number\n"
          ],
          "name": "stdout"
        }
      ]
    },
    {
      "cell_type": "markdown",
      "metadata": {
        "id": "7778XD8PVblj"
      },
      "source": [
        "2 -Write a program to find the largest among three numbers and print the largest number."
      ]
    },
    {
      "cell_type": "code",
      "metadata": {
        "id": "m0tUOkOFWR-d",
        "colab": {
          "base_uri": "https://localhost:8080/"
        },
        "outputId": "1d4d674c-863b-4d9a-9fd5-7e84fa96952d"
      },
      "source": [
        "#please enter your answer below this line\n",
        "x = int(input('Enter a number:'))\n",
        "y = int(input('Enter a number:'))\n",
        "z = int(input('Enter a number:'))\n",
        "if (x > y) and (x > z):\n",
        "  largest = x\n",
        "elif (y > x) and (y > z):\n",
        "    largest = y \n",
        "else :\n",
        "      largest = z\n",
        "      print('Largest number is',largest)\n"
      ],
      "execution_count": 3,
      "outputs": [
        {
          "output_type": "stream",
          "text": [
            "Enter a number:56\n",
            "Enter a number:25\n",
            "Enter a number:254\n",
            "Largest number is 254\n"
          ],
          "name": "stdout"
        }
      ]
    },
    {
      "cell_type": "markdown",
      "metadata": {
        "id": "Jg2Ns4OQWaJy"
      },
      "source": [
        "3 -Write a function to prompt for a score between 0.0 and 1.0.\n",
        "\n",
        "    If the score is out of range, print an error.\n",
        "    If the score is between 0.0 and 1.0, print a grade using the following table:\n",
        "    Score Grade\n",
        "             Score\tGrade\n",
        "            >= 0.9\tA\n",
        "            >= 0.8\tB\n",
        "            >= 0.7\tC\n",
        "            >= 0.6\tD\n",
        "             < 0.6\tF\n",
        "If the user enters a value out of range, print a suitable error message and exit. For the test, enter a score of 0.85."
      ]
    },
    {
      "cell_type": "code",
      "metadata": {
        "id": "6DLbGe6XXZPx",
        "colab": {
          "base_uri": "https://localhost:8080/"
        },
        "outputId": "7285f381-c278-4418-97c6-111afb6b4fd9"
      },
      "source": [
        "#please enter your answer below this line\n",
        "s = float(input('Score:'))\n",
        "if s >= 0.9 and s <= 1.0:\n",
        "  print('A')\n",
        "elif s >= 0.8 and s <= 0.9:\n",
        "    print('B')\n",
        "elif s >= 0.7 and s <= 0.8:\n",
        "      print('C') \n",
        "elif s >= 0.6 and s <= 0.7:\n",
        "        print('D')\n",
        "elif s <= 0.6 and s >= 0.0:\n",
        "          print('F')\n",
        "if (0.0>s<1.0):\n",
        "        print('invalid value')"
      ],
      "execution_count": null,
      "outputs": [
        {
          "output_type": "stream",
          "text": [
            "Score:0.85\n",
            "B\n"
          ],
          "name": "stdout"
        }
      ]
    },
    {
      "cell_type": "markdown",
      "metadata": {
        "id": "-o0scDq7WkVT"
      },
      "source": [
        ""
      ]
    }
  ]
}