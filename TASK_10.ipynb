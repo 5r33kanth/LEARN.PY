{
  "nbformat": 4,
  "nbformat_minor": 0,
  "metadata": {
    "colab": {
      "name": "TASK 10.ipynb",
      "provenance": [],
      "include_colab_link": true
    },
    "kernelspec": {
      "name": "python3",
      "display_name": "Python 3"
    },
    "language_info": {
      "name": "python"
    }
  },
  "cells": [
    {
      "cell_type": "markdown",
      "metadata": {
        "id": "view-in-github",
        "colab_type": "text"
      },
      "source": [
        "<a href=\"https://colab.research.google.com/github/5r33kanth/LEARN.PY/blob/main/TASK_10.ipynb\" target=\"_parent\"><img src=\"https://colab.research.google.com/assets/colab-badge.svg\" alt=\"Open In Colab\"/></a>"
      ]
    },
    {
      "cell_type": "markdown",
      "metadata": {
        "id": "VHKxwUewxOi2"
      },
      "source": [
        "1. Generate two  3 x 3 matrix and find it's dot product and take the transpose of the answer."
      ]
    },
    {
      "cell_type": "code",
      "metadata": {
        "id": "RdyKd1CAxZtR",
        "colab": {
          "base_uri": "https://localhost:8080/"
        },
        "outputId": "be5f6c00-d064-4e8e-8e77-00e7af41e723"
      },
      "source": [
        "#please provide your answer below this line.\n",
        "import numpy as np\n",
        "x = np.random.rand(3,3)\n",
        "y = np.random.rand(3,3)\n",
        "\n",
        "print(x)\n",
        "print(y)\n",
        "\n",
        "a=np.dot(x,y)\n",
        "print(a)\n",
        "a.transpose()"
      ],
      "execution_count": 6,
      "outputs": [
        {
          "output_type": "stream",
          "text": [
            "[[0.10869407 0.97384329 0.32369723]\n",
            " [0.7469113  0.38878482 0.86693452]\n",
            " [0.10625029 0.27462512 0.7908248 ]]\n",
            "[[0.36434026 0.73318723 0.03408721]\n",
            " [0.88568555 0.74079498 0.8709467 ]\n",
            " [0.55792041 0.01218453 0.5666404 ]]\n",
            "[[1.08271784 0.80505542 1.0352906 ]\n",
            " [1.10015141 0.84619886 0.8553111 ]\n",
            " [0.72316005 0.29097809 0.69091889]]\n"
          ],
          "name": "stdout"
        },
        {
          "output_type": "execute_result",
          "data": {
            "text/plain": [
              "array([[1.08271784, 1.10015141, 0.72316005],\n",
              "       [0.80505542, 0.84619886, 0.29097809],\n",
              "       [1.0352906 , 0.8553111 , 0.69091889]])"
            ]
          },
          "metadata": {
            "tags": []
          },
          "execution_count": 6
        }
      ]
    },
    {
      "cell_type": "markdown",
      "metadata": {
        "id": "9c9ZwiBxxf4t"
      },
      "source": [
        "2. Create a 3x3 matrix with elements [55,25,15], [30,44,2], [11,45,77] . Now find the determinant of the given matrix."
      ]
    },
    {
      "cell_type": "code",
      "metadata": {
        "id": "Anmr3C9KyNyy",
        "colab": {
          "base_uri": "https://localhost:8080/"
        },
        "outputId": "a9f2e455-cfe7-41e5-ad69-2ced0b00b424"
      },
      "source": [
        "#please provide your answer below this line.\n",
        "import numpy as np\n",
        "a=[[55,25,15], [30,44,2], [11,45,77]]\n",
        "b=np.array(a)\n",
        "print(b)\n",
        "np.linalg.det(b)\n"
      ],
      "execution_count": 11,
      "outputs": [
        {
          "output_type": "stream",
          "text": [
            "[[55 25 15]\n",
            " [30 44  2]\n",
            " [11 45 77]]\n"
          ],
          "name": "stdout"
        },
        {
          "output_type": "execute_result",
          "data": {
            "text/plain": [
              "137180.0000000001"
            ]
          },
          "metadata": {
            "tags": []
          },
          "execution_count": 11
        }
      ]
    }
  ]
}