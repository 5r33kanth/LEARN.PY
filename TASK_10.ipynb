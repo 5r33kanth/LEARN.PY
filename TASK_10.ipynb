{
  "nbformat": 4,
  "nbformat_minor": 0,
  "metadata": {
    "colab": {
      "name": "TASK 10.ipynb",
      "provenance": [],
      "include_colab_link": true
    },
    "kernelspec": {
      "name": "python3",
      "display_name": "Python 3"
    },
    "language_info": {
      "name": "python"
    }
  },
  "cells": [
    {
      "cell_type": "markdown",
      "metadata": {
        "id": "view-in-github",
        "colab_type": "text"
      },
      "source": [
        "<a href=\"https://colab.research.google.com/github/5r33kanth/LEARN.PY/blob/main/TASK_10.ipynb\" target=\"_parent\"><img src=\"https://colab.research.google.com/assets/colab-badge.svg\" alt=\"Open In Colab\"/></a>"
      ]
    },
    {
      "cell_type": "markdown",
      "metadata": {
        "id": "VHKxwUewxOi2"
      },
      "source": [
        "1. Generate two  3 x 3 matrix and find it's dot product and take the transpose of the answer."
      ]
    },
    {
      "cell_type": "code",
      "metadata": {
        "id": "RdyKd1CAxZtR",
        "outputId": "f544e1cf-f338-4cfc-f660-88ecba070945",
        "colab": {
          "base_uri": "https://localhost:8080/"
        }
      },
      "source": [
        "#please provide your answer below this line.\n",
        "import numpy as np\n",
        "a = np.random.rand(3,3)\n",
        "b = np.random.rand(3,3)\n",
        "print(a)\n",
        "print(b)\n",
        "x=np.dot(a,b)\n",
        "print(x)\n",
        "x.transpose()\n"
      ],
      "execution_count": 1,
      "outputs": [
        {
          "output_type": "stream",
          "text": [
            "[[0.761086   0.64139832 0.8531467 ]\n",
            " [0.16329616 0.02834339 0.19983247]\n",
            " [0.91725423 0.0230715  0.63414938]]\n",
            "[[0.34950517 0.9579     0.72117449]\n",
            " [0.71357098 0.1727548  0.5920515 ]\n",
            " [0.73898828 0.2887876  0.77484364]]\n",
            "[[1.35415212 1.08622711 1.58967194]\n",
            " [0.22497173 0.21902699 0.28938469]\n",
            " [0.80567721 1.06575802 1.16652649]]\n"
          ],
          "name": "stdout"
        },
        {
          "output_type": "execute_result",
          "data": {
            "text/plain": [
              "array([[1.35415212, 0.22497173, 0.80567721],\n",
              "       [1.08622711, 0.21902699, 1.06575802],\n",
              "       [1.58967194, 0.28938469, 1.16652649]])"
            ]
          },
          "metadata": {
            "tags": []
          },
          "execution_count": 1
        }
      ]
    },
    {
      "cell_type": "markdown",
      "metadata": {
        "id": "9c9ZwiBxxf4t"
      },
      "source": [
        "2. Create a 3x3 matrix with elements [55,25,15], [30,44,2], [11,45,77] . Now find the determinant of the given matrix."
      ]
    },
    {
      "cell_type": "code",
      "metadata": {
        "id": "Anmr3C9KyNyy",
        "outputId": "610d1341-6e44-449e-f45f-cc6171796711",
        "colab": {
          "base_uri": "https://localhost:8080/"
        }
      },
      "source": [
        "#please provide your answer below this line.\n",
        "import numpy as np\n",
        "a=[[55,25,15], [30,44,2], [11,45,77]]\n",
        "b=np.array(a)\n",
        "print(b)\n",
        "np.linalg.det(b)"
      ],
      "execution_count": 2,
      "outputs": [
        {
          "output_type": "stream",
          "text": [
            "[[55 25 15]\n",
            " [30 44  2]\n",
            " [11 45 77]]\n"
          ],
          "name": "stdout"
        },
        {
          "output_type": "execute_result",
          "data": {
            "text/plain": [
              "137180.0000000001"
            ]
          },
          "metadata": {
            "tags": []
          },
          "execution_count": 2
        }
      ]
    }
  ]
}