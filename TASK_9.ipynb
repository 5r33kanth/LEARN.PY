{
  "nbformat": 4,
  "nbformat_minor": 0,
  "metadata": {
    "colab": {
      "name": "TASK 9.ipynb",
      "provenance": [],
      "include_colab_link": true
    },
    "kernelspec": {
      "name": "python3",
      "display_name": "Python 3"
    },
    "language_info": {
      "name": "python"
    }
  },
  "cells": [
    {
      "cell_type": "markdown",
      "metadata": {
        "id": "view-in-github",
        "colab_type": "text"
      },
      "source": [
        "<a href=\"https://colab.research.google.com/github/5r33kanth/LEARN.PY/blob/main/TASK_9.ipynb\" target=\"_parent\"><img src=\"https://colab.research.google.com/assets/colab-badge.svg\" alt=\"Open In Colab\"/></a>"
      ]
    },
    {
      "cell_type": "markdown",
      "metadata": {
        "id": "CBOQ3rFElEb0"
      },
      "source": [
        "1. Create an 4x4 array containing the values ranging from 0 - 15 (use arange function). Then ,\n",
        "  \n",
        "  a) split it equally along horizontal.\n",
        "\n",
        "  b) split it as 4 parts vertically.\n",
        "\n"
      ]
    },
    {
      "cell_type": "code",
      "metadata": {
        "id": "pKy4fjS_m3XD",
        "outputId": "3e758cca-b2c9-4f9f-daa3-1225851ef244",
        "colab": {
          "base_uri": "https://localhost:8080/"
        }
      },
      "source": [
        "#please provide your answer below this line\n",
        "import numpy as np\n",
        "x = np.arange(0,16).reshape(4,4)\n",
        "y=np.hsplit(x,2)\n",
        "z=np.vsplit(x,4)\n",
        "y,z"
      ],
      "execution_count": 14,
      "outputs": [
        {
          "output_type": "execute_result",
          "data": {
            "text/plain": [
              "([array([[ 0,  1],\n",
              "         [ 4,  5],\n",
              "         [ 8,  9],\n",
              "         [12, 13]]), array([[ 2,  3],\n",
              "         [ 6,  7],\n",
              "         [10, 11],\n",
              "         [14, 15]])],\n",
              " [array([[0, 1, 2, 3]]),\n",
              "  array([[4, 5, 6, 7]]),\n",
              "  array([[ 8,  9, 10, 11]]),\n",
              "  array([[12, 13, 14, 15]])])"
            ]
          },
          "metadata": {
            "tags": []
          },
          "execution_count": 14
        }
      ]
    },
    {
      "cell_type": "markdown",
      "metadata": {
        "id": "ORtqWRAeoMvn"
      },
      "source": [
        "2. Create a 3x3 matrix using random module and then,\n",
        "\n",
        "  a) Find the ceil of the matrix.\n",
        "  \n",
        "  b) Find the floor of the matrix."
      ]
    },
    {
      "cell_type": "code",
      "metadata": {
        "id": "kt_CO_v9qpU-",
        "outputId": "61586e76-d5da-440c-cddd-03ffdc94f0f0",
        "colab": {
          "base_uri": "https://localhost:8080/"
        }
      },
      "source": [
        "#please provide your answer below this line\n",
        "import numpy as np\n",
        "m=np.random.rand(3,3)\n",
        "np.ceil(m),np.                         floor(m)\n"
      ],
      "execution_count": 18,
      "outputs": [
        {
          "output_type": "execute_result",
          "data": {
            "text/plain": [
              "(array([[1., 1., 1.],\n",
              "        [1., 1., 1.],\n",
              "        [1., 1., 1.]]), array([[0., 0., 0.],\n",
              "        [0., 0., 0.],\n",
              "        [0., 0., 0.]]))"
            ]
          },
          "metadata": {
            "tags": []
          },
          "execution_count": 18
        }
      ]
    },
    {
      "cell_type": "markdown",
      "metadata": {
        "id": "oln9t19WqzBb"
      },
      "source": [
        "3. Create a random 1x4 array and print the random array and its shape.\n",
        "    \n",
        "      (use the shape function for finding the shape & use the same random we created here for both the below operations.)\n",
        "\n",
        "  a) Squeeze the random array and print the squeezed array and its shape.\n",
        "  b) Expand the random array by one axis and print the expanded array and its shape."
      ]
    },
    {
      "cell_type": "code",
      "metadata": {
        "id": "cbGGwRo3vpVX",
        "outputId": "ea216a34-dfe1-4b00-f805-b2110d2ab79a",
        "colab": {
          "base_uri": "https://localhost:8080/"
        }
      },
      "source": [
        "#please provide your answer below this line.\n",
        "import numpy as np\n",
        "x=np.random.rand(1,4)\n",
        "print(x)\n",
        "print(np.shape(x))\n",
        "y=np.squeeze(x)\n",
        "print(y)\n",
        "print(np.shape(y))\n",
        "z=np.expand_dims(x,1)\n",
        "print(z)\n",
        "print(np.shape(z))\n"
      ],
      "execution_count": 20,
      "outputs": [
        {
          "output_type": "stream",
          "text": [
            "[[0.36682823 0.4367046  0.02069022 0.37529343]]\n",
            "(1, 4)\n",
            "[0.36682823 0.4367046  0.02069022 0.37529343]\n",
            "(4,)\n",
            "[[[0.36682823 0.4367046  0.02069022 0.37529343]]]\n",
            "(1, 1, 4)\n"
          ],
          "name": "stdout"
        }
      ]
    }
  ]
}