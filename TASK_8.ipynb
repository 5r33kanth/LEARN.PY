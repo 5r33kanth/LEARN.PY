{
  "nbformat": 4,
  "nbformat_minor": 0,
  "metadata": {
    "colab": {
      "name": "TASK 8.ipynb",
      "provenance": [],
      "include_colab_link": true
    },
    "kernelspec": {
      "name": "python3",
      "display_name": "Python 3"
    },
    "language_info": {
      "name": "python"
    }
  },
  "cells": [
    {
      "cell_type": "markdown",
      "metadata": {
        "id": "view-in-github",
        "colab_type": "text"
      },
      "source": [
        "<a href=\"https://colab.research.google.com/github/5r33kanth/LEARN.PY/blob/main/TASK_8.ipynb\" target=\"_parent\"><img src=\"https://colab.research.google.com/assets/colab-badge.svg\" alt=\"Open In Colab\"/></a>"
      ]
    },
    {
      "cell_type": "markdown",
      "metadata": {
        "id": "slsGswYbJSo7"
      },
      "source": [
        "1. Generate a 3 x 3 matrix using random module."
      ]
    },
    {
      "cell_type": "code",
      "metadata": {
        "id": "GGRQSYyNJW9t",
        "outputId": "cf334e56-ced9-4bc5-dd3e-a28b6592b7f7",
        "colab": {
          "base_uri": "https://localhost:8080/"
        }
      },
      "source": [
        "#please provide your answer below this line.\n",
        "import numpy as np\n",
        "x = np.random.random((3,3,3))\n",
        "print(x)"
      ],
      "execution_count": 4,
      "outputs": [
        {
          "output_type": "stream",
          "text": [
            "[[[0.03554117 0.25204297 0.03956111]\n",
            "  [0.33087924 0.67119045 0.17488418]\n",
            "  [0.49918801 0.95875698 0.28376045]]\n",
            "\n",
            " [[0.23722878 0.6176292  0.39740532]\n",
            "  [0.64247744 0.93229841 0.97419214]\n",
            "  [0.2736509  0.3940584  0.74480365]]\n",
            "\n",
            " [[0.94634088 0.78954463 0.07674853]\n",
            "  [0.65561142 0.54339979 0.89546208]\n",
            "  [0.21772511 0.0864645  0.07840734]]]\n"
          ],
          "name": "stdout"
        }
      ]
    },
    {
      "cell_type": "markdown",
      "metadata": {
        "id": "4OB9KFX6JfYA"
      },
      "source": [
        "2. Generate two 4 x 4 matrix using numpy and \n",
        "\n",
        " a) Reshape it to 2 x 8matrix and vertically stack it.\n",
        "\n",
        " b) Reshape it to 2 x 8 matrix and horizontally stack it."
      ]
    },
    {
      "cell_type": "code",
      "metadata": {
        "id": "VoIqYeNWJ4H_",
        "outputId": "663a5045-7120-46b5-cc2d-80de9e2381e4",
        "colab": {
          "base_uri": "https://localhost:8080/"
        }
      },
      "source": [
        "#please provide your answer below this line.\n",
        "import numpy as np\n",
        "s=np.full((4,4),3)\n",
        "r=s.reshape(2,8) \n",
        "e=np.full((4,4),1)\n",
        "k=e.reshape(2,8)\n",
        "a=np.stack((r,k),axis=1 )\n",
        "print(a)\n",
        "n=np.hstack((r,k))\n",
        "print(n)\n"
      ],
      "execution_count": 45,
      "outputs": [
        {
          "output_type": "stream",
          "text": [
            "[[[3 3 3 3 3 3 3 3]\n",
            "  [1 1 1 1 1 1 1 1]]\n",
            "\n",
            " [[3 3 3 3 3 3 3 3]\n",
            "  [1 1 1 1 1 1 1 1]]]\n",
            "[[3 3 3 3 3 3 3 3 1 1 1 1 1 1 1 1]\n",
            " [3 3 3 3 3 3 3 3 1 1 1 1 1 1 1 1]]\n"
          ],
          "name": "stdout"
        }
      ]
    }
  ]
}